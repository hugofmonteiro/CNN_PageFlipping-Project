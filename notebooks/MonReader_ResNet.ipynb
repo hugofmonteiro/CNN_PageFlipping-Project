{
 "cells": [
  {
   "cell_type": "code",
   "execution_count": 1,
   "id": "1ef73e4a",
   "metadata": {},
   "outputs": [
    {
     "name": "stderr",
     "output_type": "stream",
     "text": [
      "2024-01-29 00:42:26.036390: I tensorflow/core/platform/cpu_feature_guard.cc:182] This TensorFlow binary is optimized to use available CPU instructions in performance-critical operations.\n",
      "To enable the following instructions: SSE4.1 SSE4.2, in other operations, rebuild TensorFlow with the appropriate compiler flags.\n",
      "/Users/hugo/tensorflow-metal-test/lib/python3.9/site-packages/tensorflow_addons/utils/tfa_eol_msg.py:23: UserWarning: \n",
      "\n",
      "TensorFlow Addons (TFA) has ended development and introduction of new features.\n",
      "TFA has entered a minimal maintenance and release mode until a planned end of life in May 2024.\n",
      "Please modify downstream libraries to take dependencies from other repositories in our TensorFlow community (e.g. Keras, Keras-CV, and Keras-NLP). \n",
      "\n",
      "For more information see: https://github.com/tensorflow/addons/issues/2807 \n",
      "\n",
      "  warnings.warn(\n"
     ]
    }
   ],
   "source": [
    "import tensorflow as tf\n",
    "import tensorflow_addons as tfa\n",
    "import matplotlib.pyplot as plt\n",
    "import numpy as np\n",
    "%matplotlib inline"
   ]
  },
  {
   "cell_type": "code",
   "execution_count": 2,
   "id": "4d3c3608",
   "metadata": {},
   "outputs": [],
   "source": [
    "#Preprocessing --- Goal to make the data compatible for CNN input\n",
    "# In tensorflow, we can achieve the same using ImageGenerators\n",
    "\n",
    "train_generator = tf.keras.preprocessing.image.ImageDataGenerator(rescale= 1.0/255.)\n",
    "test_generator = tf.keras.preprocessing.image.ImageDataGenerator(rescale= 1.0/255.)"
   ]
  },
  {
   "cell_type": "code",
   "execution_count": 3,
   "id": "637a4d98",
   "metadata": {},
   "outputs": [
    {
     "name": "stdout",
     "output_type": "stream",
     "text": [
      "Found 2392 images belonging to 2 classes.\n",
      "Found 597 images belonging to 2 classes.\n"
     ]
    }
   ],
   "source": [
    "#Pass the images through the generator\n",
    "trainImageData = train_generator.flow_from_directory(\"../data/training\",\n",
    "                                                     batch_size=32, #how much images to give per iteration in an epoch\n",
    "                                                     class_mode=\"binary\", #Incase of multi-class classification, \"categorical\"\n",
    "                                                     target_size=(64,64) #Ensures all images are of same size (resizing)\n",
    "                                                     ) \n",
    "\n",
    "\n",
    "testImageData = train_generator.flow_from_directory(\"../data/testing\",\n",
    "                                                     batch_size=32, #how much images to give per iteration in an epoch\n",
    "                                                     class_mode=\"binary\", #Incase of multi-class classification, \"categorical\"\n",
    "                                                     target_size=(64,64) #Ensures all images are of same size (resizing)\n",
    "                                                     ) "
   ]
  },
  {
   "cell_type": "code",
   "execution_count": 4,
   "id": "3dee1302",
   "metadata": {},
   "outputs": [
    {
     "data": {
      "text/plain": [
       "{'flip': 0, 'notflip': 1}"
      ]
     },
     "execution_count": 4,
     "metadata": {},
     "output_type": "execute_result"
    }
   ],
   "source": [
    "#Given dataset is a balanced dataset\n",
    "\n",
    "trainImageData.class_indices"
   ]
  },
  {
   "cell_type": "code",
   "execution_count": 6,
   "id": "36f8bf3a",
   "metadata": {},
   "outputs": [
    {
     "data": {
      "text/plain": [
       "(64, 64, 3)"
      ]
     },
     "execution_count": 6,
     "metadata": {},
     "output_type": "execute_result"
    }
   ],
   "source": [
    "trainImageData.image_shape"
   ]
  },
  {
   "cell_type": "markdown",
   "id": "893d17f3",
   "metadata": {},
   "source": [
    "# Loading ResNet from keras to perform transfer learning"
   ]
  },
  {
   "cell_type": "code",
   "execution_count": 36,
   "id": "df94df8d",
   "metadata": {
    "scrolled": true
   },
   "outputs": [],
   "source": [
    "from tensorflow.keras.layers import Dense, GlobalAveragePooling2D, Flatten\n",
    "from tensorflow.keras.applications import ResNet152\n",
    "from tensorflow.keras.models import Sequential\n",
    "from tensorflow.keras.preprocessing.image import ImageDataGenerator"
   ]
  },
  {
   "cell_type": "code",
   "execution_count": 37,
   "id": "bed375a9",
   "metadata": {},
   "outputs": [],
   "source": [
    "# Importing the ResNet model but discarding the last 1000 neuron layer for adjustment to our dataset\n",
    "base_model = tf.keras.applications.ResNet152(weights = 'imagenet', include_top = False, input_shape=(64, 64, 3))"
   ]
  },
  {
   "cell_type": "code",
   "execution_count": 38,
   "id": "1a49c7f7",
   "metadata": {},
   "outputs": [],
   "source": [
    "# Freeze the base_model so we keep the pre-trained structure\n",
    "base_model.trainable = False"
   ]
  },
  {
   "cell_type": "code",
   "execution_count": 39,
   "id": "85eb4de7",
   "metadata": {},
   "outputs": [],
   "source": [
    "# Adjusting the model to our dataset\n",
    "\n",
    "model = tf.keras.models.Sequential([\n",
    "    base_model,\n",
    "    Flatten(),\n",
    "    Dense(1024, activation='relu'),\n",
    "    Dense(1, activation='sigmoid')\n",
    "])"
   ]
  },
  {
   "cell_type": "code",
   "execution_count": 40,
   "id": "0a335156",
   "metadata": {},
   "outputs": [
    {
     "name": "stdout",
     "output_type": "stream",
     "text": [
      "Model: \"sequential_3\"\n",
      "_________________________________________________________________\n",
      " Layer (type)                Output Shape              Param #   \n",
      "=================================================================\n",
      " resnet152 (Functional)      (None, 2, 2, 2048)        58370944  \n",
      "                                                                 \n",
      " flatten_2 (Flatten)         (None, 8192)              0         \n",
      "                                                                 \n",
      " dense_6 (Dense)             (None, 1024)              8389632   \n",
      "                                                                 \n",
      " dense_7 (Dense)             (None, 1)                 1025      \n",
      "                                                                 \n",
      "=================================================================\n",
      "Total params: 66,761,601\n",
      "Trainable params: 8,390,657\n",
      "Non-trainable params: 58,370,944\n",
      "_________________________________________________________________\n"
     ]
    }
   ],
   "source": [
    "model.summary()"
   ]
  },
  {
   "cell_type": "code",
   "execution_count": 41,
   "id": "2a4ce91b",
   "metadata": {},
   "outputs": [],
   "source": [
    "#Compile\n",
    "\n",
    "model.compile(optimizer=\"adam\",\n",
    "              loss=\"binary_crossentropy\", #For multi-class classification: categorical_crossentropy | sparse_categorical_crossentropy\n",
    "              metrics=[tfa.metrics.F1Score(num_classes=1, threshold=0.5)])"
   ]
  },
  {
   "cell_type": "code",
   "execution_count": 42,
   "id": "fb29c22e",
   "metadata": {},
   "outputs": [
    {
     "data": {
      "text/plain": [
       "74"
      ]
     },
     "execution_count": 42,
     "metadata": {},
     "output_type": "execute_result"
    }
   ],
   "source": [
    "len(trainImageData.filenames) // trainImageData.batch_size"
   ]
  },
  {
   "cell_type": "code",
   "execution_count": 43,
   "id": "7f59efe2",
   "metadata": {
    "scrolled": true
   },
   "outputs": [
    {
     "name": "stdout",
     "output_type": "stream",
     "text": [
      "Epoch 1/100\n"
     ]
    },
    {
     "name": "stderr",
     "output_type": "stream",
     "text": [
      "2024-01-29 01:27:46.990184: I tensorflow/core/common_runtime/executor.cc:1197] [/device:CPU:0] (DEBUG INFO) Executor start aborting (this does not indicate an error and you can ignore this message): INVALID_ARGUMENT: You must feed a value for placeholder tensor 'Placeholder/_0' with dtype int32\n",
      "\t [[{{node Placeholder/_0}}]]\n",
      "2024-01-29 01:27:49.573705: I tensorflow/core/grappler/optimizers/custom_graph_optimizer_registry.cc:114] Plugin optimizer for device_type GPU is enabled.\n",
      "2024-01-29 01:27:49.827812: E tensorflow/core/grappler/optimizers/meta_optimizer.cc:954] model_pruner failed: INVALID_ARGUMENT: Graph does not contain terminal node AssignAddVariableOp_2.\n"
     ]
    },
    {
     "name": "stdout",
     "output_type": "stream",
     "text": [
      "74/74 [==============================] - ETA: 0s - loss: 0.9685 - f1_score: 0.6089"
     ]
    },
    {
     "name": "stderr",
     "output_type": "stream",
     "text": [
      "2024-01-29 01:28:24.787296: I tensorflow/core/common_runtime/executor.cc:1197] [/device:CPU:0] (DEBUG INFO) Executor start aborting (this does not indicate an error and you can ignore this message): INVALID_ARGUMENT: You must feed a value for placeholder tensor 'Placeholder/_0' with dtype int32\n",
      "\t [[{{node Placeholder/_0}}]]\n",
      "2024-01-29 01:28:25.422821: I tensorflow/core/grappler/optimizers/custom_graph_optimizer_registry.cc:114] Plugin optimizer for device_type GPU is enabled.\n"
     ]
    },
    {
     "name": "stdout",
     "output_type": "stream",
     "text": [
      "74/74 [==============================] - 49s 582ms/step - loss: 0.9685 - f1_score: 0.6089 - val_loss: 0.6365 - val_f1_score: 0.6204\n",
      "Epoch 2/100\n",
      "74/74 [==============================] - 38s 511ms/step - loss: 0.6355 - f1_score: 0.6637 - val_loss: 0.6198 - val_f1_score: 0.7223\n",
      "Epoch 3/100\n",
      "74/74 [==============================] - 38s 510ms/step - loss: 0.6243 - f1_score: 0.6786 - val_loss: 0.6482 - val_f1_score: 0.4059\n",
      "Epoch 4/100\n",
      "74/74 [==============================] - 39s 523ms/step - loss: 0.6270 - f1_score: 0.6604 - val_loss: 0.6085 - val_f1_score: 0.6450\n",
      "Epoch 5/100\n",
      "74/74 [==============================] - 38s 520ms/step - loss: 0.6115 - f1_score: 0.6920 - val_loss: 0.7190 - val_f1_score: 0.2081\n",
      "Epoch 6/100\n",
      "74/74 [==============================] - 38s 520ms/step - loss: 0.6000 - f1_score: 0.7078 - val_loss: 0.5900 - val_f1_score: 0.6990\n",
      "Epoch 7/100\n",
      "74/74 [==============================] - 38s 513ms/step - loss: 0.5813 - f1_score: 0.7104 - val_loss: 0.6090 - val_f1_score: 0.7537\n",
      "Epoch 8/100\n",
      "74/74 [==============================] - 38s 510ms/step - loss: 0.5563 - f1_score: 0.7233 - val_loss: 0.5853 - val_f1_score: 0.6541\n",
      "Epoch 9/100\n",
      "74/74 [==============================] - 38s 513ms/step - loss: 0.5482 - f1_score: 0.7365 - val_loss: 0.5586 - val_f1_score: 0.7061\n",
      "Epoch 10/100\n",
      "74/74 [==============================] - 38s 511ms/step - loss: 0.5532 - f1_score: 0.7263 - val_loss: 0.6089 - val_f1_score: 0.7546\n",
      "Epoch 11/100\n",
      "74/74 [==============================] - 38s 512ms/step - loss: 0.5389 - f1_score: 0.7367 - val_loss: 0.5554 - val_f1_score: 0.7733\n",
      "Epoch 12/100\n",
      "74/74 [==============================] - 38s 511ms/step - loss: 0.5633 - f1_score: 0.7190 - val_loss: 0.5976 - val_f1_score: 0.6052\n",
      "Epoch 13/100\n",
      "74/74 [==============================] - 38s 510ms/step - loss: 0.5385 - f1_score: 0.7425 - val_loss: 0.7060 - val_f1_score: 0.7484\n",
      "Epoch 14/100\n",
      "74/74 [==============================] - 38s 511ms/step - loss: 0.5319 - f1_score: 0.7436 - val_loss: 0.5459 - val_f1_score: 0.7885\n",
      "Epoch 15/100\n",
      "74/74 [==============================] - 38s 517ms/step - loss: 0.5267 - f1_score: 0.7617 - val_loss: 0.5274 - val_f1_score: 0.7762\n",
      "Epoch 16/100\n",
      "74/74 [==============================] - 38s 511ms/step - loss: 0.4992 - f1_score: 0.7683 - val_loss: 0.6561 - val_f1_score: 0.4940\n",
      "Epoch 17/100\n",
      "74/74 [==============================] - 38s 513ms/step - loss: 0.5397 - f1_score: 0.7538 - val_loss: 0.5286 - val_f1_score: 0.7585\n",
      "Epoch 18/100\n",
      "74/74 [==============================] - 38s 518ms/step - loss: 0.4963 - f1_score: 0.7687 - val_loss: 0.5197 - val_f1_score: 0.8030\n",
      "Epoch 19/100\n",
      "74/74 [==============================] - 38s 514ms/step - loss: 0.4994 - f1_score: 0.7664 - val_loss: 0.5456 - val_f1_score: 0.7925\n",
      "Epoch 20/100\n",
      "74/74 [==============================] - 38s 512ms/step - loss: 0.4612 - f1_score: 0.7909 - val_loss: 0.5226 - val_f1_score: 0.7509\n",
      "Epoch 21/100\n",
      "74/74 [==============================] - 38s 510ms/step - loss: 0.4567 - f1_score: 0.7929 - val_loss: 0.5473 - val_f1_score: 0.7983\n",
      "Epoch 22/100\n",
      "74/74 [==============================] - 38s 514ms/step - loss: 0.4711 - f1_score: 0.7795 - val_loss: 0.4990 - val_f1_score: 0.7811\n",
      "Epoch 23/100\n",
      "74/74 [==============================] - 38s 513ms/step - loss: 0.4844 - f1_score: 0.7857 - val_loss: 0.5739 - val_f1_score: 0.7825\n",
      "Epoch 24/100\n",
      "74/74 [==============================] - 38s 512ms/step - loss: 0.4636 - f1_score: 0.7897 - val_loss: 0.4838 - val_f1_score: 0.7917\n",
      "Epoch 25/100\n",
      "74/74 [==============================] - 38s 512ms/step - loss: 0.4641 - f1_score: 0.7944 - val_loss: 0.5826 - val_f1_score: 0.6022\n",
      "Epoch 26/100\n",
      "74/74 [==============================] - 38s 512ms/step - loss: 0.4386 - f1_score: 0.8088 - val_loss: 0.4813 - val_f1_score: 0.8114\n",
      "Epoch 27/100\n",
      "74/74 [==============================] - 38s 513ms/step - loss: 0.4749 - f1_score: 0.7800 - val_loss: 0.5035 - val_f1_score: 0.8048\n",
      "Epoch 28/100\n",
      "74/74 [==============================] - 38s 514ms/step - loss: 0.4757 - f1_score: 0.7910 - val_loss: 0.4829 - val_f1_score: 0.8020\n",
      "Epoch 29/100\n",
      "74/74 [==============================] - 38s 512ms/step - loss: 0.4366 - f1_score: 0.8062 - val_loss: 0.5291 - val_f1_score: 0.8046\n",
      "Epoch 30/100\n",
      "74/74 [==============================] - 38s 512ms/step - loss: 0.4393 - f1_score: 0.8125 - val_loss: 0.5326 - val_f1_score: 0.7545\n",
      "Epoch 31/100\n",
      "74/74 [==============================] - 38s 512ms/step - loss: 0.4401 - f1_score: 0.8091 - val_loss: 0.4889 - val_f1_score: 0.7882\n",
      "Epoch 32/100\n",
      "74/74 [==============================] - 38s 511ms/step - loss: 0.4244 - f1_score: 0.8159 - val_loss: 0.4756 - val_f1_score: 0.7734\n",
      "Epoch 33/100\n",
      "74/74 [==============================] - 38s 510ms/step - loss: 0.4274 - f1_score: 0.8246 - val_loss: 0.4956 - val_f1_score: 0.7880\n",
      "Epoch 34/100\n",
      "74/74 [==============================] - 38s 513ms/step - loss: 0.4447 - f1_score: 0.8133 - val_loss: 0.4895 - val_f1_score: 0.8186\n",
      "Epoch 35/100\n",
      "74/74 [==============================] - 38s 511ms/step - loss: 0.4413 - f1_score: 0.8079 - val_loss: 0.4834 - val_f1_score: 0.8190\n",
      "Epoch 36/100\n",
      "74/74 [==============================] - 38s 510ms/step - loss: 0.4030 - f1_score: 0.8299 - val_loss: 0.4727 - val_f1_score: 0.8237\n",
      "Epoch 37/100\n",
      "74/74 [==============================] - 38s 512ms/step - loss: 0.4397 - f1_score: 0.8141 - val_loss: 0.4957 - val_f1_score: 0.8103\n",
      "Epoch 38/100\n",
      "74/74 [==============================] - 38s 512ms/step - loss: 0.4390 - f1_score: 0.8114 - val_loss: 0.4531 - val_f1_score: 0.8241\n",
      "Epoch 39/100\n",
      "74/74 [==============================] - 38s 511ms/step - loss: 0.3958 - f1_score: 0.8357 - val_loss: 0.5282 - val_f1_score: 0.8064\n",
      "Epoch 40/100\n",
      "74/74 [==============================] - 38s 509ms/step - loss: 0.3877 - f1_score: 0.8387 - val_loss: 0.5337 - val_f1_score: 0.8107\n",
      "Epoch 41/100\n",
      "74/74 [==============================] - 38s 511ms/step - loss: 0.4058 - f1_score: 0.8287 - val_loss: 0.4620 - val_f1_score: 0.8191\n",
      "Epoch 42/100\n",
      "74/74 [==============================] - 38s 511ms/step - loss: 0.4415 - f1_score: 0.8096 - val_loss: 0.5935 - val_f1_score: 0.7219\n",
      "Epoch 43/100\n",
      "74/74 [==============================] - 39s 521ms/step - loss: 0.4310 - f1_score: 0.8103 - val_loss: 0.4458 - val_f1_score: 0.8084\n",
      "Epoch 44/100\n",
      "74/74 [==============================] - 38s 511ms/step - loss: 0.4195 - f1_score: 0.8165 - val_loss: 0.4655 - val_f1_score: 0.8363\n",
      "Epoch 45/100\n",
      "74/74 [==============================] - 38s 511ms/step - loss: 0.4016 - f1_score: 0.8273 - val_loss: 0.5845 - val_f1_score: 0.7956\n",
      "Epoch 46/100\n",
      "74/74 [==============================] - 38s 509ms/step - loss: 0.4108 - f1_score: 0.8251 - val_loss: 0.4807 - val_f1_score: 0.8276\n",
      "Epoch 47/100\n",
      "74/74 [==============================] - 38s 510ms/step - loss: 0.3975 - f1_score: 0.8296 - val_loss: 0.4499 - val_f1_score: 0.8374\n",
      "Epoch 48/100\n",
      "74/74 [==============================] - 38s 510ms/step - loss: 0.4058 - f1_score: 0.8260 - val_loss: 0.4657 - val_f1_score: 0.8036\n",
      "Epoch 49/100\n",
      "74/74 [==============================] - 38s 511ms/step - loss: 0.3874 - f1_score: 0.8330 - val_loss: 0.4338 - val_f1_score: 0.8303\n",
      "Epoch 50/100\n",
      "74/74 [==============================] - 38s 512ms/step - loss: 0.4110 - f1_score: 0.8201 - val_loss: 0.4343 - val_f1_score: 0.8435\n",
      "Epoch 51/100\n",
      "74/74 [==============================] - 38s 511ms/step - loss: 0.3820 - f1_score: 0.8437 - val_loss: 0.4336 - val_f1_score: 0.8202\n",
      "Epoch 52/100\n",
      "74/74 [==============================] - 38s 512ms/step - loss: 0.3704 - f1_score: 0.8448 - val_loss: 0.4537 - val_f1_score: 0.7986\n",
      "Epoch 53/100\n",
      "74/74 [==============================] - 38s 513ms/step - loss: 0.4109 - f1_score: 0.8231 - val_loss: 0.4900 - val_f1_score: 0.7861\n",
      "Epoch 54/100\n",
      "74/74 [==============================] - 38s 510ms/step - loss: 0.4187 - f1_score: 0.8141 - val_loss: 0.4872 - val_f1_score: 0.8251\n",
      "Epoch 55/100\n",
      "74/74 [==============================] - 38s 512ms/step - loss: 0.3692 - f1_score: 0.8487 - val_loss: 0.4525 - val_f1_score: 0.8471\n",
      "Epoch 56/100\n",
      "74/74 [==============================] - 38s 510ms/step - loss: 0.3675 - f1_score: 0.8522 - val_loss: 0.5764 - val_f1_score: 0.7977\n",
      "Epoch 57/100\n"
     ]
    },
    {
     "name": "stdout",
     "output_type": "stream",
     "text": [
      "74/74 [==============================] - 38s 517ms/step - loss: 0.3798 - f1_score: 0.8395 - val_loss: 0.4481 - val_f1_score: 0.8438\n",
      "Epoch 58/100\n",
      "74/74 [==============================] - 38s 514ms/step - loss: 0.3881 - f1_score: 0.8426 - val_loss: 0.4266 - val_f1_score: 0.8470\n",
      "Epoch 59/100\n",
      "74/74 [==============================] - 38s 511ms/step - loss: 0.3886 - f1_score: 0.8327 - val_loss: 0.4445 - val_f1_score: 0.7993\n",
      "Epoch 60/100\n",
      "74/74 [==============================] - 38s 513ms/step - loss: 0.4071 - f1_score: 0.8306 - val_loss: 0.5318 - val_f1_score: 0.7558\n",
      "Epoch 61/100\n",
      "74/74 [==============================] - 38s 515ms/step - loss: 0.3602 - f1_score: 0.8477 - val_loss: 0.4444 - val_f1_score: 0.8429\n",
      "Epoch 62/100\n",
      "74/74 [==============================] - 38s 511ms/step - loss: 0.3615 - f1_score: 0.8484 - val_loss: 0.4330 - val_f1_score: 0.8470\n",
      "Epoch 63/100\n",
      "74/74 [==============================] - 38s 510ms/step - loss: 0.3482 - f1_score: 0.8636 - val_loss: 0.4088 - val_f1_score: 0.8414\n",
      "Epoch 64/100\n",
      "74/74 [==============================] - 38s 511ms/step - loss: 0.4326 - f1_score: 0.8096 - val_loss: 0.5570 - val_f1_score: 0.7461\n",
      "Epoch 65/100\n",
      "74/74 [==============================] - 38s 511ms/step - loss: 0.3725 - f1_score: 0.8430 - val_loss: 0.4415 - val_f1_score: 0.8206\n",
      "Epoch 66/100\n",
      "74/74 [==============================] - 38s 510ms/step - loss: 0.3611 - f1_score: 0.8479 - val_loss: 0.4352 - val_f1_score: 0.8377\n",
      "Epoch 67/100\n",
      "74/74 [==============================] - 38s 508ms/step - loss: 0.3507 - f1_score: 0.8568 - val_loss: 0.4591 - val_f1_score: 0.8251\n",
      "Epoch 68/100\n",
      "74/74 [==============================] - 38s 510ms/step - loss: 0.3830 - f1_score: 0.8407 - val_loss: 0.4152 - val_f1_score: 0.8476\n",
      "Epoch 69/100\n",
      "74/74 [==============================] - 38s 510ms/step - loss: 0.3469 - f1_score: 0.8605 - val_loss: 0.4226 - val_f1_score: 0.8430\n",
      "Epoch 70/100\n",
      "74/74 [==============================] - 38s 511ms/step - loss: 0.3739 - f1_score: 0.8457 - val_loss: 0.4810 - val_f1_score: 0.8323\n",
      "Epoch 71/100\n",
      "74/74 [==============================] - 38s 511ms/step - loss: 0.3809 - f1_score: 0.8434 - val_loss: 0.4016 - val_f1_score: 0.8533\n",
      "Epoch 72/100\n",
      "74/74 [==============================] - 38s 511ms/step - loss: 0.3892 - f1_score: 0.8326 - val_loss: 0.4110 - val_f1_score: 0.8377\n",
      "Epoch 73/100\n",
      "74/74 [==============================] - 38s 512ms/step - loss: 0.3586 - f1_score: 0.8464 - val_loss: 0.4128 - val_f1_score: 0.8557\n",
      "Epoch 74/100\n",
      "74/74 [==============================] - 38s 511ms/step - loss: 0.3685 - f1_score: 0.8434 - val_loss: 0.4100 - val_f1_score: 0.8382\n",
      "Epoch 75/100\n",
      "74/74 [==============================] - 38s 511ms/step - loss: 0.3385 - f1_score: 0.8640 - val_loss: 0.4330 - val_f1_score: 0.8134\n",
      "Epoch 76/100\n",
      "74/74 [==============================] - 38s 511ms/step - loss: 0.3654 - f1_score: 0.8493 - val_loss: 0.4648 - val_f1_score: 0.8200\n",
      "Epoch 77/100\n",
      "74/74 [==============================] - 38s 510ms/step - loss: 0.4180 - f1_score: 0.8314 - val_loss: 0.4219 - val_f1_score: 0.8465\n",
      "Epoch 78/100\n",
      "74/74 [==============================] - 38s 511ms/step - loss: 0.3755 - f1_score: 0.8389 - val_loss: 0.4165 - val_f1_score: 0.8376\n",
      "Epoch 79/100\n",
      "74/74 [==============================] - 38s 510ms/step - loss: 0.3625 - f1_score: 0.8457 - val_loss: 0.4269 - val_f1_score: 0.8347\n",
      "Epoch 80/100\n",
      "74/74 [==============================] - 38s 511ms/step - loss: 0.3431 - f1_score: 0.8596 - val_loss: 0.4755 - val_f1_score: 0.8230\n",
      "Epoch 81/100\n",
      "74/74 [==============================] - 38s 511ms/step - loss: 0.3484 - f1_score: 0.8545 - val_loss: 0.5078 - val_f1_score: 0.7549\n",
      "Epoch 82/100\n",
      "74/74 [==============================] - 38s 511ms/step - loss: 0.3716 - f1_score: 0.8454 - val_loss: 0.4509 - val_f1_score: 0.8058\n",
      "Epoch 83/100\n",
      "74/74 [==============================] - 38s 514ms/step - loss: 0.3303 - f1_score: 0.8709 - val_loss: 0.4141 - val_f1_score: 0.8460\n",
      "Epoch 84/100\n",
      "74/74 [==============================] - 38s 514ms/step - loss: 0.3452 - f1_score: 0.8591 - val_loss: 0.4224 - val_f1_score: 0.8350\n",
      "Epoch 85/100\n",
      "74/74 [==============================] - 38s 510ms/step - loss: 0.3347 - f1_score: 0.8582 - val_loss: 0.4694 - val_f1_score: 0.7993\n",
      "Epoch 86/100\n",
      "74/74 [==============================] - 38s 510ms/step - loss: 0.3559 - f1_score: 0.8524 - val_loss: 0.4923 - val_f1_score: 0.8297\n",
      "Epoch 87/100\n",
      "74/74 [==============================] - 38s 509ms/step - loss: 0.3730 - f1_score: 0.8404 - val_loss: 0.4566 - val_f1_score: 0.8384\n",
      "Epoch 88/100\n",
      "74/74 [==============================] - 38s 510ms/step - loss: 0.3298 - f1_score: 0.8707 - val_loss: 0.5105 - val_f1_score: 0.7666\n",
      "Epoch 89/100\n",
      "74/74 [==============================] - 38s 509ms/step - loss: 0.3764 - f1_score: 0.8433 - val_loss: 0.4497 - val_f1_score: 0.8057\n",
      "Epoch 90/100\n",
      "74/74 [==============================] - 38s 509ms/step - loss: 0.3279 - f1_score: 0.8698 - val_loss: 0.4315 - val_f1_score: 0.8246\n",
      "Epoch 91/100\n",
      "74/74 [==============================] - 38s 509ms/step - loss: 0.3335 - f1_score: 0.8667 - val_loss: 0.4315 - val_f1_score: 0.8256\n",
      "Epoch 92/100\n",
      "74/74 [==============================] - 38s 509ms/step - loss: 0.3378 - f1_score: 0.8664 - val_loss: 0.4396 - val_f1_score: 0.8292\n",
      "Epoch 93/100\n",
      "74/74 [==============================] - 38s 511ms/step - loss: 0.3428 - f1_score: 0.8588 - val_loss: 0.4065 - val_f1_score: 0.8581\n",
      "Epoch 94/100\n",
      "74/74 [==============================] - 38s 509ms/step - loss: 0.3415 - f1_score: 0.8598 - val_loss: 0.4262 - val_f1_score: 0.8299\n",
      "Epoch 95/100\n",
      "74/74 [==============================] - 38s 509ms/step - loss: 0.3516 - f1_score: 0.8506 - val_loss: 0.4083 - val_f1_score: 0.8383\n",
      "Epoch 96/100\n",
      "74/74 [==============================] - 38s 510ms/step - loss: 0.3288 - f1_score: 0.8688 - val_loss: 0.4006 - val_f1_score: 0.8632\n",
      "Epoch 97/100\n",
      "74/74 [==============================] - 38s 511ms/step - loss: 0.3263 - f1_score: 0.8614 - val_loss: 0.4273 - val_f1_score: 0.8460\n",
      "Epoch 98/100\n",
      "74/74 [==============================] - 38s 510ms/step - loss: 0.3297 - f1_score: 0.8654 - val_loss: 0.4942 - val_f1_score: 0.8356\n",
      "Epoch 99/100\n",
      "74/74 [==============================] - 38s 513ms/step - loss: 0.3703 - f1_score: 0.8397 - val_loss: 0.4944 - val_f1_score: 0.8395\n",
      "Epoch 100/100\n",
      "74/74 [==============================] - 38s 514ms/step - loss: 0.3738 - f1_score: 0.8454 - val_loss: 0.4555 - val_f1_score: 0.8408\n"
     ]
    },
    {
     "data": {
      "text/plain": [
       "<keras.callbacks.History at 0x2132d67c0>"
      ]
     },
     "execution_count": 43,
     "metadata": {},
     "output_type": "execute_result"
    }
   ],
   "source": [
    "# Fit the model\n",
    "model.fit(trainImageData,\n",
    "          validation_data=testImageData,\n",
    "          epochs=100,\n",
    "          steps_per_epoch = len(trainImageData.filenames) // trainImageData.batch_size,\n",
    "          validation_steps= len(testImageData.filenames) // testImageData.batch_size)"
   ]
  },
  {
   "cell_type": "code",
   "execution_count": 44,
   "id": "9593399e",
   "metadata": {},
   "outputs": [],
   "source": [
    "model.save('../models/ResNet.keras')\n",
    "#model.save('monReader.keras_tf', save_format='tf')"
   ]
  },
  {
   "cell_type": "markdown",
   "id": "e795c1e5",
   "metadata": {},
   "source": [
    "### The ResNet re-trained model to our dataset is 335MB, being the largest model and so a model that will NOT fit in a smartphone app! "
   ]
  }
 ],
 "metadata": {
  "kernelspec": {
   "display_name": "tensorflow-metal-test",
   "language": "python",
   "name": "tensorflow-metal-test"
  },
  "language_info": {
   "codemirror_mode": {
    "name": "ipython",
    "version": 3
   },
   "file_extension": ".py",
   "mimetype": "text/x-python",
   "name": "python",
   "nbconvert_exporter": "python",
   "pygments_lexer": "ipython3",
   "version": "3.9.13"
  }
 },
 "nbformat": 4,
 "nbformat_minor": 5
}
